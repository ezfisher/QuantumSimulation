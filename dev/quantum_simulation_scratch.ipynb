{
 "cells": [
  {
   "cell_type": "code",
   "execution_count": 1,
   "metadata": {},
   "outputs": [],
   "source": [
    "import torch\n",
    "from torch import nn\n",
    "import numpy as np\n",
    "import src.quantum_object as qo\n",
    "import src.Operators.operators as op\n",
    "import src.Qubits.qubits as qu"
   ]
  },
  {
   "cell_type": "code",
   "execution_count": 2,
   "metadata": {},
   "outputs": [],
   "source": [
    "class BaseQuantumObject(nn.Module):\n",
    "    def __init__(self, size, num_states, device='cpu'):\n",
    "        self.size = size\n",
    "        self.num_states = num_states\n",
    "        self.device = device\n",
    "    \n",
    "    def __define__(self, inp_state):\n",
    "        if not torch.is_complex(inp_state):\n",
    "            inp_state = torch.complex(inp_state, torch.zeros_like(inp_state))\n",
    "        return self.__norm__(inp_state)\n",
    "        \n",
    "    def __norm__(self, inp):\n",
    "        if torch.is_complex(inp):\n",
    "            norm_const = torch.sqrt((inp*inp.conj()).sum(dim=1).real.unsqueeze(1))\n",
    "        else:\n",
    "            norm_const = torch.sqrt((inp*inp).sum(dim=1).real.unsqueeze(1))\n",
    "        return inp / norm_const"
   ]
  },
  {
   "cell_type": "code",
   "execution_count": 3,
   "metadata": {},
   "outputs": [],
   "source": [
    "class Qubit(BaseQuantumObject):\n",
    "    def __init__(self, inp_state, num_states=2, adjoint=False, device = 'cpu'):\n",
    "        super().__init__(size=1, num_states=num_states, device=device)\n",
    "        self.num_states = num_states\n",
    "        self.adjoint = adjoint\n",
    "        self.device = device\n",
    "        self.state = self.define(inp_state)\n",
    "    \n",
    "    def define(self, inp_state):\n",
    "        if not isinstance(inp_state, torch.Tensor):\n",
    "            inp_state = torch.Tensor((inp_state)).reshape((1, self.num_states, 1))\n",
    "        return super().__define__(inp_state)"
   ]
  },
  {
   "cell_type": "code",
   "execution_count": 4,
   "metadata": {},
   "outputs": [],
   "source": [
    "class Zero(BaseQuantumObject):\n",
    "    def __init__(self, device='cpu'):\n",
    "        super().__init__(size=1, num_states=1, device=device)\n",
    "        self.num_states = 2\n",
    "        self.size = 1\n",
    "        self.device = device\n",
    "        self.state = self.define()\n",
    "    \n",
    "    def define(self):\n",
    "        inp_state = torch.Tensor((1, 0)).reshape((1, self.num_states, 1))\n",
    "        return super().__define__(inp_state)"
   ]
  },
  {
   "cell_type": "code",
   "execution_count": 5,
   "metadata": {},
   "outputs": [],
   "source": [
    "class One(BaseQuantumObject):\n",
    "    def __init__(self, device='cpu'):\n",
    "        super().__init__(size=1, num_states=1, device=device)\n",
    "        self.num_states = 2\n",
    "        self.size = 1\n",
    "        self.device = device\n",
    "        self.state = self.define()\n",
    "    \n",
    "    def define(self):\n",
    "        inp_state = torch.Tensor((0, 1)).reshape((1, self.num_states, 1))\n",
    "        return super().__define__(inp_state)"
   ]
  },
  {
   "cell_type": "code",
   "execution_count": 6,
   "metadata": {},
   "outputs": [],
   "source": [
    "class Plus(BaseQuantumObject):\n",
    "    def __init__(self, device='cpu'):\n",
    "        super().__init__(size=1, num_states=2, device=device)\n",
    "        self.num_states = 2\n",
    "        self.size = 1\n",
    "        self.device = device\n",
    "        self.state = self.define()\n",
    "    \n",
    "    def define(self):\n",
    "        inp_state = torch.Tensor((1, 1)).reshape((1, self.num_states, 1))\n",
    "        return super().__define__(inp_state)"
   ]
  },
  {
   "cell_type": "code",
   "execution_count": 7,
   "metadata": {},
   "outputs": [],
   "source": [
    "class Minus(BaseQuantumObject):\n",
    "    def __init__(self, device='cpu'):\n",
    "        super().__init__(size=1, num_states=2, device=device)\n",
    "        self.num_states = 2\n",
    "        self.size = 1\n",
    "        self.device = device\n",
    "        self.state = self.define()\n",
    "    \n",
    "    def define(self):\n",
    "        inp_state = torch.Tensor((1, -1)).reshape((1, self.num_states, 1))\n",
    "        return super().__define__(inp_state)"
   ]
  },
  {
   "cell_type": "code",
   "execution_count": 8,
   "metadata": {},
   "outputs": [],
   "source": [
    "class H(BaseQuantumObject):\n",
    "    def __init__(self, device='cpu'):\n",
    "        super().__init__(size=1, num_states=2, device=device)\n",
    "        self.num_states = 2\n",
    "        self.size = 1\n",
    "        self.device = device\n",
    "        self.gate = self.define()\n",
    "    \n",
    "    def define(self):\n",
    "        gate = torch.Tensor(((1, 1), (1, -1))).reshape((1, 2, 2))\n",
    "        return super().__define__(gate)"
   ]
  },
  {
   "cell_type": "code",
   "execution_count": 9,
   "metadata": {},
   "outputs": [],
   "source": [
    "class Gate(BaseQuantumObject):\n",
    "    def __init__(self, gate, size, device='cpu'):\n",
    "        super().__init__(size=1, num_states=2, device=device)\n",
    "        self.num_states = 2\n",
    "        self.size = size\n",
    "        self.device = device\n",
    "        self.gate = self.define(gate)\n",
    "    \n",
    "    def define(self, gate):\n",
    "        if not isinstance(gate, torch.Tensor):\n",
    "            gate = torch.Tensor((gate)).reshape((1, self.num_states**self.size, -1))\n",
    "        return super().__define__(gate)"
   ]
  },
  {
   "cell_type": "code",
   "execution_count": 10,
   "metadata": {},
   "outputs": [],
   "source": [
    "class Y(BaseQuantumObject):\n",
    "    def __init__(self, device='cpu'):\n",
    "        super().__init__(size=1, num_states=2, device=device)\n",
    "        self.num_states = 2\n",
    "        self.size = 1\n",
    "        self.device = device\n",
    "        self.gate = self.define()\n",
    "    \n",
    "    def define(self):\n",
    "        gate_re = torch.Tensor(((0, 0), (0, 0))).reshape((1, 2, 2))\n",
    "        gate_im = torch.Tensor(((0, -1), (1, 0))).reshape((1, 2, 2))\n",
    "        gate = torch.complex(gate_re, gate_im)\n",
    "        return super().__define__(gate)"
   ]
  },
  {
   "cell_type": "code",
   "execution_count": 11,
   "metadata": {},
   "outputs": [],
   "source": [
    "class X(BaseQuantumObject):\n",
    "    def __init__(self, device='cpu'):\n",
    "        super().__init__(size=1, num_states=2, device=device)\n",
    "        self.num_states = 2\n",
    "        self.size = 1\n",
    "        self.device = device\n",
    "        self.gate = self.define()\n",
    "    \n",
    "    def define(self):\n",
    "        gate = torch.Tensor(((0, 1), (1, 0))).reshape((1, 2, 2))\n",
    "        return super().__define__(gate)"
   ]
  },
  {
   "cell_type": "code",
   "execution_count": 12,
   "metadata": {},
   "outputs": [],
   "source": [
    "class Z(BaseQuantumObject):\n",
    "    def __init__(self, device='cpu'):\n",
    "        super().__init__(size=1, num_states=2, device=device)\n",
    "        self.num_states = 2\n",
    "        self.size = 1\n",
    "        self.device = device\n",
    "        self.gate = self.define()\n",
    "    \n",
    "    def define(self):\n",
    "        gate = torch.Tensor(((1, 0), (0, -1))).reshape((1, 2, 2))\n",
    "        return super().__define__(gate)"
   ]
  },
  {
   "cell_type": "code",
   "execution_count": 13,
   "metadata": {},
   "outputs": [],
   "source": [
    "class CX(BaseQuantumObject):\n",
    "    def __init__(self, control_qubit, target_qubit, control_state=1, device='cpu'):\n",
    "        self.control_qubit = control_qubit\n",
    "        self.target_qubit = target_qubit\n",
    "        self.control_state = control_state\n",
    "        self.device = device\n",
    "        self.size = torch.Tensor([control_qubit, target_qubit]).max() - torch.Tensor([control_qubit, target_qubit]).min()\n",
    "        self.num_states = 2\n",
    "        self.bases = self.__bases__()\n",
    "        self.zero_one = torch.concat((qu.Zero().state, qu.One().state), dim=0)\n",
    "        self.gate = op.X(self.size).gate\n",
    "        self.gate_zero_one = torch.concat((torch.matmul(self.gate, self.zero_one[0]), torch.matmul(self.gate, self.zero_one[1])), dim=0)\n",
    "    \n",
    "    def __bases__(self):\n",
    "        bases = torch.arange(self.num_states).reshape((-1, 1)).type(torch.uint8)\n",
    "        while bases.shape[-1] < self.size:\n",
    "            _zeros = torch.zeros((bases.shape[0], 1)).type(torch.uint8)\n",
    "            _ones = torch.ones((bases.shape[0], 1)).type(torch.uint8)\n",
    "            new_order = torch.concat([_zeros, _ones], dim=0)\n",
    "            bases = torch.concat((bases, bases), dim=0)\n",
    "            bases = torch.concat((new_order, bases), dim=1)\n",
    "        return bases\n",
    "    \n",
    "    def __tensor_product__(self, basis):\n",
    "        kron = basis[0]\n",
    "        for b in basis[1:]:\n",
    "            kron = torch.kron(kron, b)\n",
    "        return kron\n",
    "\n",
    "    def define(self):\n",
    "        return self.bases"
   ]
  },
  {
   "cell_type": "code",
   "execution_count": 14,
   "metadata": {},
   "outputs": [
    {
     "name": "stdout",
     "output_type": "stream",
     "text": [
      "tensor([[0, 0, 0, 0],\n",
      "        [0, 0, 0, 1],\n",
      "        [0, 0, 1, 0],\n",
      "        [0, 0, 1, 1],\n",
      "        [0, 1, 0, 0],\n",
      "        [0, 1, 0, 1],\n",
      "        [0, 1, 1, 0],\n",
      "        [0, 1, 1, 1],\n",
      "        [1, 0, 0, 0],\n",
      "        [1, 0, 0, 1],\n",
      "        [1, 0, 1, 0],\n",
      "        [1, 0, 1, 1],\n",
      "        [1, 1, 0, 0],\n",
      "        [1, 1, 0, 1],\n",
      "        [1, 1, 1, 0],\n",
      "        [1, 1, 1, 1]], dtype=torch.uint8)\n"
     ]
    }
   ],
   "source": [
    "control_qubit, target_qubit = 1, 5\n",
    "control_state = 1\n",
    "cx = CX(control_qubit, target_qubit, control_state=1, device='cpu')\n",
    "bases = cx.bases\n",
    "kron = cx.define()\n",
    "print(bases)"
   ]
  },
  {
   "cell_type": "code",
   "execution_count": 15,
   "metadata": {},
   "outputs": [
    {
     "name": "stdout",
     "output_type": "stream",
     "text": [
      "torch.Size([2, 2, 1])\n"
     ]
    }
   ],
   "source": [
    "print(cx.zero_one.shape)"
   ]
  },
  {
   "cell_type": "code",
   "execution_count": 20,
   "metadata": {},
   "outputs": [
    {
     "ename": "RuntimeError",
     "evalue": "result type ComplexFloat can't be cast to the desired output type Float",
     "output_type": "error",
     "traceback": [
      "\u001b[0;31m---------------------------------------------------------------------------\u001b[0m",
      "\u001b[0;31mRuntimeError\u001b[0m                              Traceback (most recent call last)",
      "Cell \u001b[0;32mIn[20], line 17\u001b[0m\n\u001b[1;32m     15\u001b[0m out_states \u001b[38;5;241m=\u001b[39m cx\u001b[38;5;241m.\u001b[39m__tensor_product__(out_states)\n\u001b[1;32m     16\u001b[0m in_states \u001b[38;5;241m=\u001b[39m in_states\u001b[38;5;241m.\u001b[39mtranspose(\u001b[38;5;241m0\u001b[39m, \u001b[38;5;241m1\u001b[39m)\n\u001b[0;32m---> 17\u001b[0m \u001b[43mcxop\u001b[49m\u001b[43m \u001b[49m\u001b[38;5;241;43m+\u001b[39;49m\u001b[38;5;241;43m=\u001b[39;49m\u001b[43m \u001b[49m\u001b[43mtorch\u001b[49m\u001b[38;5;241;43m.\u001b[39;49m\u001b[43mmatmul\u001b[49m\u001b[43m(\u001b[49m\u001b[43min_states\u001b[49m\u001b[43m,\u001b[49m\u001b[43m \u001b[49m\u001b[43mout_states\u001b[49m\u001b[43m)\u001b[49m\n",
      "\u001b[0;31mRuntimeError\u001b[0m: result type ComplexFloat can't be cast to the desired output type Float"
     ]
    }
   ],
   "source": [
    "control_state, control_qubit, target_qubit = 1, 1, 3\n",
    "cxop = torch.zeros((1, 16, 16))\n",
    "# _range = max(control_qubit, target_qubit) - min(control_qubit, target_qubit)\n",
    "# target_qubit = target_qubit - _range\n",
    "# control_qubit = control_qubit - _range\n",
    "for i in range(bases.shape[0]):\n",
    "    b = bases[i]\n",
    "    in_states = [\n",
    "        cx.zero_one[b[j].item()] for j in range(b.shape[0])\n",
    "    ]\n",
    "    out_states = in_states\n",
    "    in_states = cx.__tensor_product__(in_states)\n",
    "    if b[control_qubit].item() == control_state:\n",
    "        out_states[target_qubit] = cx.gate_zero_one[b[target_qubit].item()]\n",
    "    out_states = cx.__tensor_product__(out_states)\n",
    "    in_states = in_states.transpose(0, 1)"
   ]
  },
  {
   "cell_type": "code",
   "execution_count": null,
   "metadata": {},
   "outputs": [],
   "source": []
  },
  {
   "cell_type": "code",
   "execution_count": null,
   "metadata": {},
   "outputs": [],
   "source": []
  }
 ],
 "metadata": {
  "kernelspec": {
   "display_name": "base",
   "language": "python",
   "name": "python3"
  },
  "language_info": {
   "codemirror_mode": {
    "name": "ipython",
    "version": 3
   },
   "file_extension": ".py",
   "mimetype": "text/x-python",
   "name": "python",
   "nbconvert_exporter": "python",
   "pygments_lexer": "ipython3",
   "version": "3.12.2"
  }
 },
 "nbformat": 4,
 "nbformat_minor": 2
}
